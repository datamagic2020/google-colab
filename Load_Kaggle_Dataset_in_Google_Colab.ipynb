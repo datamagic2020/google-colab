{
  "nbformat": 4,
  "nbformat_minor": 0,
  "metadata": {
    "colab": {
      "name": "Load Kaggle Dataset in Google Colab.ipynb",
      "provenance": [],
      "collapsed_sections": [
        "klL7u1lYWOEc",
        "YrrkhgxJWUVI",
        "I-O231TkTJWB",
        "yw_RsngJTPMG",
        "L4XyKZmdTrn2"
      ]
    },
    "kernelspec": {
      "name": "python3",
      "display_name": "Python 3"
    },
    "language_info": {
      "name": "python"
    }
  },
  "cells": [
    {
      "cell_type": "markdown",
      "source": [
        "#### 1.Create Kaggle API Token"
      ],
      "metadata": {
        "id": "klL7u1lYWOEc"
      }
    },
    {
      "cell_type": "markdown",
      "source": [
        "https://www.kaggle.com/ --> Account --> Create New API Token"
      ],
      "metadata": {
        "id": "d7zd6H3IWwTO"
      }
    },
    {
      "cell_type": "markdown",
      "source": [
        "#### 2.Link Kaggle with Google Colab"
      ],
      "metadata": {
        "id": "YrrkhgxJWUVI"
      }
    },
    {
      "cell_type": "code",
      "execution_count": null,
      "metadata": {
        "colab": {
          "base_uri": "https://localhost:8080/"
        },
        "id": "v8_i89iyJKuJ",
        "outputId": "ddde817c-9ea5-4ff6-befa-4c41a221f9df"
      },
      "outputs": [
        {
          "output_type": "stream",
          "name": "stdout",
          "text": [
            "Requirement already satisfied: Kaggle in /usr/local/lib/python3.7/dist-packages (1.5.12)\n",
            "Requirement already satisfied: certifi in /usr/local/lib/python3.7/dist-packages (from Kaggle) (2021.10.8)\n",
            "Requirement already satisfied: python-dateutil in /usr/local/lib/python3.7/dist-packages (from Kaggle) (2.8.2)\n",
            "Requirement already satisfied: urllib3 in /usr/local/lib/python3.7/dist-packages (from Kaggle) (1.24.3)\n",
            "Requirement already satisfied: six>=1.10 in /usr/local/lib/python3.7/dist-packages (from Kaggle) (1.15.0)\n",
            "Requirement already satisfied: python-slugify in /usr/local/lib/python3.7/dist-packages (from Kaggle) (6.1.1)\n",
            "Requirement already satisfied: requests in /usr/local/lib/python3.7/dist-packages (from Kaggle) (2.23.0)\n",
            "Requirement already satisfied: tqdm in /usr/local/lib/python3.7/dist-packages (from Kaggle) (4.64.0)\n",
            "Requirement already satisfied: text-unidecode>=1.3 in /usr/local/lib/python3.7/dist-packages (from python-slugify->Kaggle) (1.3)\n",
            "Requirement already satisfied: chardet<4,>=3.0.2 in /usr/local/lib/python3.7/dist-packages (from requests->Kaggle) (3.0.4)\n",
            "Requirement already satisfied: idna<3,>=2.5 in /usr/local/lib/python3.7/dist-packages (from requests->Kaggle) (2.10)\n"
          ]
        }
      ],
      "source": [
        "!pip install Kaggle"
      ]
    },
    {
      "cell_type": "markdown",
      "source": [
        "Create directory"
      ],
      "metadata": {
        "id": "RkDH8wI6UtW1"
      }
    },
    {
      "cell_type": "code",
      "source": [
        "!mkdir ~/.kaggle"
      ],
      "metadata": {
        "colab": {
          "base_uri": "https://localhost:8080/"
        },
        "id": "6qwEP8hpMGnR",
        "outputId": "085cb249-6a86-405a-bd8b-e596821b5d02"
      },
      "execution_count": null,
      "outputs": [
        {
          "output_type": "stream",
          "name": "stdout",
          "text": [
            "mkdir: cannot create directory ‘/root/.kaggle’: File exists\n"
          ]
        }
      ]
    },
    {
      "cell_type": "markdown",
      "source": [
        "Copy File"
      ],
      "metadata": {
        "id": "NQnf0Ro6UqBE"
      }
    },
    {
      "cell_type": "code",
      "source": [
        "!cp kaggle.json ~/.kaggle"
      ],
      "metadata": {
        "id": "k6z6FxuqMq1G"
      },
      "execution_count": null,
      "outputs": []
    },
    {
      "cell_type": "markdown",
      "source": [
        "Read Write permission for owner only"
      ],
      "metadata": {
        "id": "9jzEfDAXUj6W"
      }
    },
    {
      "cell_type": "code",
      "source": [
        "!chmod 600 ~/.kaggle/kaggle.json"
      ],
      "metadata": {
        "id": "6uJ8YO3ARPMf"
      },
      "execution_count": null,
      "outputs": []
    },
    {
      "cell_type": "markdown",
      "source": [
        "#### 3.Download Kaggle Dataset"
      ],
      "metadata": {
        "id": "I-O231TkTJWB"
      }
    },
    {
      "cell_type": "code",
      "source": [
        " !kaggle datasets list"
      ],
      "metadata": {
        "colab": {
          "base_uri": "https://localhost:8080/"
        },
        "id": "A6g8GZzwRuE0",
        "outputId": "8e877d6f-0799-49b8-b528-3c0aea4d1feb"
      },
      "execution_count": null,
      "outputs": [
        {
          "output_type": "stream",
          "name": "stdout",
          "text": [
            "ref                                                            title                                             size  lastUpdated          downloadCount  voteCount  usabilityRating  \n",
            "-------------------------------------------------------------  -----------------------------------------------  -----  -------------------  -------------  ---------  ---------------  \n",
            "datasets/piterfm/2022-ukraine-russian-war                      2022 Ukraine Russia War                            2KB  2022-04-20 07:52:05           9689        526  1.0              \n",
            "datasets/muratkokludataset/date-fruit-datasets                 Date Fruit Datasets                              408KB  2022-04-03 09:25:39           1433        269  0.9375           \n",
            "datasets/muratkokludataset/acoustic-extinguisher-fire-dataset  Acoustic Extinguisher Fire Dataset               621KB  2022-04-02 22:59:36            147        236  0.9375           \n",
            "datasets/kamilpytlak/personal-key-indicators-of-heart-disease  Personal Key Indicators of Heart Disease           3MB  2022-02-16 10:18:03          16519        352  1.0              \n",
            "datasets/muratkokludataset/pistachio-image-dataset             Pistachio Image Dataset                           27MB  2022-03-28 18:01:27             43        223  0.9375           \n",
            "datasets/muratkokludataset/rice-image-dataset                  Rice Image Dataset                               219MB  2022-04-03 02:12:00            168        218  0.875            \n",
            "datasets/muratkokludataset/pistachio-dataset                   Pistachio Dataset                                  2MB  2022-04-03 08:38:21            166        193  0.9375           \n",
            "datasets/muratkokludataset/grapevine-leaves-image-dataset      Grapevine Leaves Image Dataset                   109MB  2022-04-03 09:00:54             32        211  0.8125           \n",
            "datasets/muratkokludataset/raisin-dataset                      Raisin Dataset                                   112KB  2022-04-03 00:23:16             97        170  0.9375           \n",
            "datasets/prasertk/population-pyramid-by-country-from-19502022  Population pyramid by country from 1950-2022     461KB  2022-04-13 09:42:07            443         24  1.0              \n",
            "datasets/muhmores/spotify-top-100-songs-of-20152019            Spotify Top 100 Songs of 2010-2019               139KB  2022-04-09 06:35:36            795         21  0.8235294        \n",
            "datasets/muratkokludataset/durum-wheat-dataset                 Durum Wheat Dataset                              983MB  2022-04-03 00:02:29             28        182  0.875            \n",
            "datasets/xhlulu/cpc-codes                                      Cooperative Patent Classification Codes Meaning    5MB  2022-03-22 03:04:36            764         86  1.0              \n",
            "datasets/muratkokludataset/dry-bean-dataset                    Dry Bean Dataset                                   5MB  2022-04-02 23:19:30             67        177  0.875            \n",
            "datasets/vivek468/superstore-dataset-final                     Superstore Dataset                               550KB  2022-02-17 11:33:07          10607        206  1.0              \n",
            "datasets/rinichristy/2022-fuel-consumption-ratings             2022 Fuel Consumption Ratings                     13KB  2022-04-06 14:41:35            800         20  1.0              \n",
            "datasets/muratkokludataset/rice-msc-dataset                    Rice MSC Dataset                                 102MB  2022-04-03 01:33:52             62        167  0.875            \n",
            "datasets/muratkokludataset/pumpkin-seeds-dataset               Pumpkin Seeds Dataset                            393KB  2022-03-28 18:28:16             98        168  0.875            \n",
            "datasets/shivkumarganesh/world-happiness-report-20152022       World Happiness Report 2015-2022                  69KB  2022-04-09 20:49:07            844         36  0.9705882        \n",
            "datasets/prasertk/major-social-media-stock-prices-20122022     Major social media stock prices 2012-2022        175KB  2022-04-07 08:04:53            623         30  1.0              \n"
          ]
        }
      ]
    },
    {
      "cell_type": "code",
      "source": [
        "! kaggle datasets download 'muratkokludataset/date-fruit-datasets'\n"
      ],
      "metadata": {
        "colab": {
          "base_uri": "https://localhost:8080/"
        },
        "id": "qJtuNe-GSLyQ",
        "outputId": "f8819602-b3e1-4b13-aa3f-dfec9dfe8639"
      },
      "execution_count": null,
      "outputs": [
        {
          "output_type": "stream",
          "name": "stdout",
          "text": [
            "date-fruit-datasets.zip: Skipping, found more recently modified local copy (use --force to force download)\n"
          ]
        }
      ]
    },
    {
      "cell_type": "markdown",
      "source": [
        "#### 4.Download Kaggle Competition Dataset"
      ],
      "metadata": {
        "id": "yw_RsngJTPMG"
      }
    },
    {
      "cell_type": "code",
      "source": [
        "!kaggle competitions list"
      ],
      "metadata": {
        "colab": {
          "base_uri": "https://localhost:8080/"
        },
        "id": "zRmDlB7sSuI6",
        "outputId": "b01337f7-2d5f-4e5e-cd5d-7e07fd69a0e5"
      },
      "execution_count": null,
      "outputs": [
        {
          "output_type": "stream",
          "name": "stdout",
          "text": [
            "ref                                                         deadline             category            reward  teamCount  userHasEntered  \n",
            "----------------------------------------------------------  -------------------  ---------------  ---------  ---------  --------------  \n",
            "mpetitions/contradictory-my-dear-watson                     2030-07-01 23:59:00  Getting Started     Prizes         37           False  \n",
            "mpetitions/gan-getting-started                              2030-07-01 23:59:00  Getting Started     Prizes        122           False  \n",
            "mpetitions/store-sales-time-series-forecasting              2030-06-30 23:59:00  Getting Started  Knowledge       1356           False  \n",
            "mpetitions/tpu-getting-started                              2030-06-03 23:59:00  Getting Started  Knowledge        176           False  \n",
            "mpetitions/digit-recognizer                                 2030-01-01 00:00:00  Getting Started  Knowledge       2200           False  \n",
            "mpetitions/titanic                                          2030-01-01 00:00:00  Getting Started  Knowledge      14280            True  \n",
            "mpetitions/house-prices-advanced-regression-techniques      2030-01-01 00:00:00  Getting Started  Knowledge       4220            True  \n",
            "mpetitions/connectx                                         2030-01-01 00:00:00  Getting Started  Knowledge        220           False  \n",
            "mpetitions/nlp-getting-started                              2030-01-01 00:00:00  Getting Started  Knowledge        823           False  \n",
            "mpetitions/spaceship-titanic                                2030-01-01 00:00:00  Getting Started  Knowledge       1527           False  \n",
            "mpetitions/competitive-data-science-predict-future-sales    2022-12-31 23:59:00  Playground           Kudos      14573            True  \n",
            "mpetitions/uw-madison-gi-tract-image-segmentation           2022-07-14 23:59:00  Research           $25,000         27           False  \n",
            "mpetitions/kore-2022                                        2022-07-12 23:59:00  Featured           $15,000         65           False  \n",
            "mpetitions/foursquare-location-matching                     2022-07-07 23:59:00  Featured           $25,000         66           False  \n",
            "mpetitions/jpx-tokyo-stock-exchange-prediction              2022-07-05 23:59:00  Featured           $63,000        460           False  \n",
            "mpetitions/phase-ii-widsdatathon2022                        2022-06-30 23:59:00  Analytics            Kudos          0           False  \n",
            "mpetitions/us-patent-phrase-to-phrase-matching              2022-06-20 23:59:00  Featured           $25,000        632           False  \n",
            "mpetitions/image-matching-challenge-2022                    2022-06-02 23:59:00  Research           $10,000        138           False  \n",
            "mpetitions/sorghum-id-fgvc-9                                2022-05-30 23:59:00  Research         Knowledge        131           False  \n",
            "mpetitions/hotel-id-to-combat-human-trafficking-2022-fgvc9  2022-05-30 23:59:00  Research         Knowledge         32           False  \n"
          ]
        }
      ]
    },
    {
      "cell_type": "code",
      "source": [
        "! kaggle competitions download 'titanic'"
      ],
      "metadata": {
        "colab": {
          "base_uri": "https://localhost:8080/"
        },
        "id": "2_nLc-mQRyfS",
        "outputId": "3e2713a2-03f5-4691-9f96-9f878dc5c7c0"
      },
      "execution_count": null,
      "outputs": [
        {
          "output_type": "stream",
          "name": "stdout",
          "text": [
            "Downloading titanic.zip to /content\n",
            "\r  0% 0.00/34.1k [00:00<?, ?B/s]\n",
            "\r100% 34.1k/34.1k [00:00<00:00, 29.0MB/s]\n"
          ]
        }
      ]
    },
    {
      "cell_type": "markdown",
      "source": [
        "#### 5.Download Specific File in Dataset"
      ],
      "metadata": {
        "id": "L4XyKZmdTrn2"
      }
    },
    {
      "cell_type": "code",
      "source": [
        "! kaggle competitions download digit-recognizer -f test.csv"
      ],
      "metadata": {
        "colab": {
          "base_uri": "https://localhost:8080/"
        },
        "id": "UROlV-GKS5bT",
        "outputId": "c3e18f27-f739-49b7-bbcf-d678b7f6ce05"
      },
      "execution_count": null,
      "outputs": [
        {
          "output_type": "stream",
          "name": "stdout",
          "text": [
            "test.csv.zip: Skipping, found more recently modified local copy (use --force to force download)\n"
          ]
        }
      ]
    },
    {
      "cell_type": "code",
      "source": [
        ""
      ],
      "metadata": {
        "id": "u3guQA-UTuci"
      },
      "execution_count": null,
      "outputs": []
    }
  ]
}